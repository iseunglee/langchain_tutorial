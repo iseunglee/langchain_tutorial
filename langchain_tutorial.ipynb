{
 "cells": [
  {
   "cell_type": "markdown",
   "metadata": {},
   "source": [
    "# .env 파일 환경변수 사용"
   ]
  },
  {
   "cell_type": "code",
   "execution_count": 1,
   "metadata": {},
   "outputs": [],
   "source": [
    "from dotenv import load_dotenv\n",
    "import os\n",
    "from langchain_openai import ChatOpenAI"
   ]
  },
  {
   "cell_type": "code",
   "execution_count": 2,
   "metadata": {},
   "outputs": [],
   "source": [
    "load_dotenv()\n",
    "openai_api_key = os.getenv(\"OPENAI_API_KEY\")"
   ]
  },
  {
   "cell_type": "code",
   "execution_count": 3,
   "metadata": {},
   "outputs": [],
   "source": [
    "# 기본 모델 객체 생성\n",
    "llm = ChatOpenAI(api_key=openai_api_key)\n",
    "\n",
    "# invoke 메서드 안에 메세지 삽입\n",
    "output = llm.invoke(\"2024년 청년 지원 정책에 대해서 알려줘\")"
   ]
  },
  {
   "cell_type": "code",
   "execution_count": 7,
   "metadata": {},
   "outputs": [],
   "source": [
    "# 템플릿 기반 사용방법\n",
    "# role과 message 설정\n",
    "from langchain_core.prompts import ChatPromptTemplate\n",
    "prompt = ChatPromptTemplate.from_messages(\n",
    "    [\n",
    "        (\"system\", \"너는 청년을 행복하게 하기 위한 정부정책 안내 컨설턴트야.\"),\n",
    "        (\"user\", \"{input}\")\n",
    "    ]\n",
    ")"
   ]
  },
  {
   "cell_type": "code",
   "execution_count": 8,
   "metadata": {},
   "outputs": [],
   "source": [
    "chain = prompt | llm # 프롬프트와 llm을 연결하는 파이썬 문법, 파이프연산자(|) 사용"
   ]
  },
  {
   "cell_type": "code",
   "execution_count": 11,
   "metadata": {},
   "outputs": [
    {
     "data": {
      "text/plain": [
       "ChatPromptTemplate(input_variables=['input'], messages=[SystemMessagePromptTemplate(prompt=PromptTemplate(input_variables=[], template='너는 청년을 행복하게 하기 위한 정부정책 안내 컨설턴트야.')), HumanMessagePromptTemplate(prompt=PromptTemplate(input_variables=['input'], template='{input}'))])\n",
       "| ChatOpenAI(client=<openai.resources.chat.completions.Completions object at 0x000002201575D210>, async_client=<openai.resources.chat.completions.AsyncCompletions object at 0x000002201575E920>, openai_api_key=SecretStr('**********'), openai_proxy='')"
      ]
     },
     "execution_count": 11,
     "metadata": {},
     "output_type": "execute_result"
    }
   ],
   "source": [
    "chain"
   ]
  },
  {
   "cell_type": "code",
   "execution_count": 12,
   "metadata": {},
   "outputs": [
    {
     "data": {
      "text/plain": [
       "AIMessage(content='2024년 청년을 지원하기 위한 정부 정책에는 다양한 측면이 포함될 수 있습니다. 예를 들어, 아래와 같은 정책들이 시행될 수 있을 것입니다:\\n\\n1. 청년 고용 촉진 정책: 청년 실업률을 줄이기 위해 청년을 취업시키기 위한 정책이 강화될 것입니다. 이를 위해 청년들에게 적합한 직업교육 및 훈련 프로그램을 지원하고, 기업에게 청년을 고용할 경우 혜택을 제공할 수 있습니다.\\n\\n2. 주택 안정 정책: 주택가격 상승으로 인한 청년들의 주거 불안 문제를 해결하기 위해, 저렴한 주택 공급 확대나 청년들에게 주택 구매를 돕는 프로그램을 시행할 수 있습니다.\\n\\n3. 교육 지원 정책: 청년들의 교육비 부담을 줄이기 위해 장학금 지원 확대, 교육 로보어 등을 통한 교육 기회 확대 등의 정책이 시행될 수 있습니다.\\n\\n4. 청년 창업 지원 정책: 청년 창업을 촉진하기 위해 창업자금 지원, 창업 교육 프로그램 제공, 벤처기업 지원 등의 정책이 강화될 수 있습니다.\\n\\n이 외에도 청년들의 경제적, 사회적 안정을 위한 다양한 정책이 시행될 것이며, 이를 통해 청년들의 행복과 발전을 지원할 것으로 기대됩니다.', response_metadata={'finish_reason': 'stop', 'logprobs': None})"
      ]
     },
     "execution_count": 12,
     "metadata": {},
     "output_type": "execute_result"
    }
   ],
   "source": [
    "# input 자리에 들어갈 내용\n",
    "chain.invoke({\"input\":\"2024년 청년 지원 정책에 대해서 알려줘\"})"
   ]
  },
  {
   "cell_type": "markdown",
   "metadata": {},
   "source": [
    "## 파싱하기"
   ]
  },
  {
   "cell_type": "code",
   "execution_count": 13,
   "metadata": {},
   "outputs": [],
   "source": [
    "# llm 모델의 결과물을 string으로 변환하기 위한 메서드 : StrOutputParser\n",
    "from langchain_core.output_parsers import StrOutputParser\n",
    "output_parser = StrOutputParser()"
   ]
  },
  {
   "cell_type": "code",
   "execution_count": 14,
   "metadata": {},
   "outputs": [],
   "source": [
    "chain = prompt | llm | output_parser # 체인의 이름처럼 각각의 이름을 모듈화해서 모듈을 연결한다\n",
    "# prompt 값이 들어오는 형태\n",
    "# llm 은 모델이 표준화된 형태\n",
    "# output_parser 값을 끊어서"
   ]
  },
  {
   "cell_type": "code",
   "execution_count": 15,
   "metadata": {},
   "outputs": [
    {
     "data": {
      "text/plain": [
       "'2024년 청년을 지원하기 위한 정부 정책은 아직 발표되지 않았습니다. 하지만 일반적으로 청년을 지원하는 정책은 다음과 같은 내용을 포함할 수 있습니다:\\n\\n1. 일자리 창출: 청년들을 위한 취업 기회를 확대하고, 신규 일자리를 창출하는 정책을 시행할 수 있습니다. 특히 청년 실업 문제 해결을 위한 프로그램을 강화할 수 있습니다.\\n\\n2. 교육 및 직업훈련 지원: 교육 및 직업훈련을 통해 청년들의 경제적 능력을 향상시키고, 취업 기회를 높일 수 있는 프로그램을 지원할 수 있습니다.\\n\\n3. 주거 지원: 청년들의 주거 문제를 해결하기 위해 저렴한 주거 시설을 제공하거나 주거 보조금을 지원하는 정책을 시행할 수 있습니다.\\n\\n4. 스타트업 지원: 청년 창업가들을 지원하여 새로운 기업을 창업하고 성장할 수 있도록 장려하는 프로그램을 운영할 수 있습니다.\\n\\n5. 사회적 경제 참여 촉진: 봉사활동, 사회적 기업 등을 통해 청년들이 사회에 더 많이 참여할 수 있도록 지원하는 정책을 시행할 수 있습니다.\\n\\n이러한 정책들을 통해 청년들의 경제적 안정과 성장을 지원하는데 도움이 될 수 있습니다. 실제로 2024년에 발표될 정부의 정책은 더 다양하고 구체적일 수 있으니 관련 소식을 주시되 참고하시면 좋을 것 같습니다.'"
      ]
     },
     "execution_count": 15,
     "metadata": {},
     "output_type": "execute_result"
    }
   ],
   "source": [
    "# 위의 chain과 달리 StrOutputParser을 사용하여 문자열로 출력한 것을 볼 수 있다\n",
    "chain.invoke({\"input\":\"2024년 청년 지원 정책에 대해서 알려줘\"})"
   ]
  },
  {
   "cell_type": "markdown",
   "metadata": {},
   "source": [
    "## 검색하기"
   ]
  },
  {
   "cell_type": "code",
   "execution_count": 16,
   "metadata": {},
   "outputs": [
    {
     "data": {
      "text/plain": [
       "<langchain_community.document_loaders.web_base.WebBaseLoader at 0x22015a736d0>"
      ]
     },
     "execution_count": 16,
     "metadata": {},
     "output_type": "execute_result"
    }
   ],
   "source": [
    "# 크롤링과 연결하기\n",
    "# 웹사이트 정보를 주고 받아와서 나의 질문에 응답을 하도록 함\n",
    "# 특정 도메인에 대한 챗봇을 구성할 때, 도메인의 정보가 수시로 업데이트 될 때 사용한다\n",
    "# chatgpt는 제한된 데이터를 가지고 있다. 따라서 이러한 문제점을 해결하기 위해 사용한다\n",
    "from langchain_community.document_loaders import WebBaseLoader\n",
    "import beautifulsoup4 \n",
    "loader = WebBaseLoader(\"https://www.moel.go.kr/policy/policyinfo/support/list4.do\")\n",
    "loader"
   ]
  },
  {
   "cell_type": "code",
   "execution_count": 19,
   "metadata": {},
   "outputs": [],
   "source": [
    "docs = loader.load() # 값을 읽어옴"
   ]
  },
  {
   "cell_type": "code",
   "execution_count": 20,
   "metadata": {},
   "outputs": [
    {
     "data": {
      "text/plain": [
       "[Document(page_content='\\n\\n\\n\\n\\n\\n\\n\\n\\n\\n\\n내일을 위한 고용노동부 - 고용노동부가 밝은 미래를 열어드립니다\\n\\n\\n\\n\\n\\n\\n\\n\\n\\n\\n\\n\\n\\n\\n\\n\\n\\n\\n\\n\\n\\n\\n\\n\\n\\n\\n\\n\\n\\n\\n\\n\\n\\n\\n\\n\\n\\n\\n\\n\\n\\n\\n\\n\\n\\n\\n반복영역 건너뛰기\\n주메뉴 바로가기\\n본문 바로가기\\n\\n\\n\\n\\n이 누리집은 대한민국 공식 전자정부 누리집입니다.\\n\\n\\n\\n\\n\\n\\n\\n\\n\\n\\n\\n\\n\\n\\n\\n고용노동부\\n\\n통합검색 열기\\n\\n\\n\\n추천\\n\\n\\n\\n\\n검색 내역 삭제하기\\n\\n검색하기\\n\\n\\n\\n\\n\\n내가 찾은 검색어\\n\\n\\n최근 검색어가 없습니다.\\n\\n\\n인기 검색어\\n\\n\\n\\n\\n닫기\\n\\n통합검색 닫기\\n\\n\\n\\n누리집 안내지도\\n국가상징 알아보기\\n\\n\\n\\n\\n\\n\\n\\n\\n홈으로\\n\\n\\n\\n영문 홈페이지\\n누리집 안내지도\\n\\n\\n\\n\\n민원\\n\\n\\n이용안내\\n\\n민원신청\\n\\n신고센터\\n\\n나의민원\\n\\n지방청/고용센터찾기\\n\\n자주하는 질문\\n\\n\\n\\n국민참여\\n\\n\\n정부포상 365일 추천창구\\n\\n규제혁신\\n\\n규제혁신과제\\n규제혁신성과\\n규제혁신제안\\n규제입증요청\\n\\n\\n정책참여\\n\\n칭찬합시다\\n\\n안전신문고\\n\\n적극행정\\n\\n제도소개\\n국민참여\\n적극행정 자료실\\n\\n\\n크리에이터 협업\\n\\n\\n\\n뉴스·소식\\n\\n\\n보도자료\\n\\n언론보도설명\\n\\n공지사항\\n\\n홍보자료\\n\\n홍보동영상\\n카드뉴스\\n월간내일(기관지)\\n뉴스레터\\n\\n\\n\\n\\n정보공개\\n\\n\\n사전정보 공표목록\\n\\n행정정보공개\\n\\n정보공개안내\\n정보목록\\n업무추진비공개\\n공무국외출장\\n상품권 구매ㆍ사용내역\\n\\n\\n정책실명제\\n\\n정책실명제 안내\\n중점관리 대상사업\\n\\n\\n청렴정책공개\\n\\n반부패청렴자료\\n청탁금지법 상담 및 조치\\n감사결과\\n부패행위현황\\n\\n\\n공공데이터개방\\n\\n공공데이터 포털\\n행정해석(질의회시)\\n주요발간자료\\n\\n\\n체불사업주 명단공개\\n\\n법령정보\\n\\n현행법령\\n최근제·개정법령\\n입법·행정예고\\n훈령·예규·고시\\n\\n\\n국고보조사업\\n\\n국고보조사업현황\\n국고보조사업공모현황\\n\\n\\n재정정보공개\\n\\n수입지출현황\\n사업설명자료\\n\\n\\n자산운용\\n\\n고용보험기금\\n산재보험기금\\n장애인고용기금\\n임금채권보장기금\\n\\n\\n고용노동통계\\n\\n기타정보\\n\\n자주찾는자료실\\n협동조합 경영공시\\n\\n\\n\\n\\n정책자료\\n\\n\\n국정과제\\n\\n정책추진방향\\n\\n대상자별 정책\\n\\n청년\\n신중년\\n장애인\\n여성\\n외국인\\n\\n\\n분야별 정책\\n\\n취업 및 채용지원\\n사업주지원\\n고용안전망\\n직업능력개발\\n근로조건개선\\n안심일터\\n노사관계\\n\\n\\n업무보고\\n\\n정책자료실\\n\\n노동개혁\\n\\n추진상황\\n보도 및 홍보자료\\n상생임금위원회\\n임금체계 개편\\n미래노동시장연구회\\n\\n\\ne-고용노동지표\\n\\n최신 고용노동 통계\\n고용률/실업률\\n근로감독/신고사건 현황\\n청년고용률 및 사업실적\\n\\n\\n\\n\\n기관소개\\n\\n\\n고용노동부는\\n\\n상징(MI) 및 청사진\\n연혁\\n예산·기금\\n\\n\\n장관소개\\n\\n차관소개\\n\\n조직안내\\n\\n본부\\n소속기관\\n직원검색\\n산하기관\\n\\n\\n찾아오시는 길\\n\\n\\n\\n이용안내\\n\\n\\n홈페이지 이용안내\\n\\n홈페이지배너모음\\n\\nRSS 서비스\\n\\n누리집 안내지도\\n\\n개인정보처리방침\\n\\n저작권정책\\n\\n품질인증\\n\\n고용노동행정서비스헌장\\n\\n모바일 앱모음\\n\\n본인확인\\n\\n알림판\\n\\n영상정보처리기기 운영ㆍ관리 방침 \\n\\n\\n\\n\\n전체 메뉴 닫기\\n\\n\\n\\n\\n\\n민원\\n\\n\\n\\n\\n\\n이용안내새창 열기\\n\\n\\n\\n\\n민원신청새창 열기\\n\\n\\n\\n\\n신고센터새창 열기\\n\\n\\n\\n\\n나의민원새창 열기\\n\\n\\n\\n\\n지방청/고용센터찾기새창 열기\\n\\n\\n\\n\\n자주하는 질문새창 열기\\n\\n\\n\\n\\n\\n\\n\\n국민참여\\n\\n\\n\\n\\n정부포상 365일 추천창구\\n\\n\\n규제혁신\\n\\n규제혁신과제\\n규제혁신성과\\n규제혁신제안\\n규제입증요청\\n\\n\\n\\n정책참여\\n\\n\\n칭찬합시다\\n\\n\\n\\n안전신문고새창 열기\\n\\n\\n\\n적극행정\\n\\n제도소개\\n국민참여\\n적극행정 자료실\\n\\n\\n\\n크리에이터 협업\\n\\n\\n\\n\\n\\n\\n뉴스·소식\\n\\n\\n\\n\\n보도자료\\n\\n\\n언론보도설명\\n\\n\\n공지사항\\n\\n\\n홍보자료\\n\\n홍보동영상\\n카드뉴스\\n월간내일(기관지)\\n뉴스레터새창 열기\\n\\n\\n\\n\\n\\n\\n\\n정보공개\\n\\n\\n\\n\\n사전정보 공표목록\\n\\n\\n행정정보공개\\n\\n정보공개안내\\n정보목록\\n업무추진비공개\\n공무국외출장\\n상품권 구매ㆍ사용내역\\n\\n\\n\\n정책실명제\\n\\n정책실명제 안내\\n중점관리 대상사업\\n\\n\\n\\n청렴정책공개\\n\\n반부패청렴자료\\n청탁금지법 상담 및 조치\\n감사결과\\n부패행위현황\\n\\n\\n\\n공공데이터개방\\n\\n공공데이터 포털\\n행정해석(질의회시)\\n주요발간자료\\n\\n\\n\\n체불사업주 명단공개\\n\\n\\n법령정보\\n\\n현행법령\\n최근제·개정법령\\n입법·행정예고\\n훈령·예규·고시\\n\\n\\n\\n국고보조사업\\n\\n국고보조사업현황\\n국고보조사업공모현황\\n\\n\\n\\n재정정보공개\\n\\n수입지출현황\\n사업설명자료\\n\\n\\n\\n자산운용\\n\\n고용보험기금\\n산재보험기금\\n장애인고용기금\\n임금채권보장기금\\n\\n\\n\\n\\n고용노동통계새창 열기\\n\\n\\n\\n기타정보\\n\\n자주찾는자료실\\n협동조합 경영공시\\n\\n\\n\\n\\n\\n\\n\\n정책자료\\n\\n\\n\\n\\n국정과제\\n\\n\\n정책추진방향\\n\\n\\n대상자별 정책\\n\\n청년\\n신중년\\n장애인\\n여성\\n외국인\\n\\n\\n\\n분야별 정책\\n\\n취업 및 채용지원\\n사업주지원\\n고용안전망\\n직업능력개발\\n근로조건개선\\n안심일터\\n노사관계\\n\\n\\n\\n업무보고\\n\\n\\n정책자료실\\n\\n\\n노동개혁\\n\\n추진상황\\n보도 및 홍보자료\\n상생임금위원회\\n임금체계 개편\\n미래노동시장연구회\\n\\n\\n\\n\\ne-고용노동지표새창 열기\\n\\n\\n최신 고용노동 통계새창 열기\\n고용률/실업률새창 열기\\n근로감독/신고사건 현황새창 열기\\n청년고용률 및 사업실적새창 열기\\n\\n\\n\\n\\n\\n\\n\\n기관소개\\n\\n\\n\\n\\n고용노동부는\\n\\n상징(MI) 및 청사진\\n연혁\\n예산·기금\\n\\n\\n\\n장관소개\\n\\n\\n차관소개\\n\\n\\n조직안내\\n\\n본부\\n소속기관\\n직원검색\\n산하기관\\n\\n\\n\\n찾아오시는 길\\n\\n\\n\\n\\n\\n\\n이용안내\\n\\n\\n\\n\\n홈페이지 이용안내\\n\\n\\n홈페이지배너모음\\n\\n\\nRSS 서비스\\n\\n\\n누리집 안내지도\\n\\n\\n개인정보처리방침\\n\\n\\n저작권정책\\n\\n\\n품질인증\\n\\n\\n고용노동행정서비스헌장\\n\\n\\n모바일 앱모음\\n\\n\\n본인확인\\n\\n\\n알림판\\n\\n\\n영상정보처리기기 운영ㆍ관리 방침 \\n\\n\\n\\n\\n\\n\\n\\n\\nENG\\n\\n\\n\\n\\n\\n\\n\\n\\n홈으로 이동\\n\\n\\n정책자료\\n\\n국민참여\\n\\n\\n\\n분야별 정책\\n\\n국정과제\\n정책추진방향\\n대상자별 정책\\n분야별 정책\\n업무보고\\n정책자료실\\n노동개혁\\ne-고용노동지표\\n\\n\\n\\n취업 및 채용지원\\n\\n\\n\\n\\n\\n기능버튼모음\\n\\n화면 확대\\n화면크기 원래상태로\\n화면축소\\n현재 페이지 프린트\\n\\n\\n\\n\\n\\n\\n\\n\\n\\n\\n본문\\n\\n\\n\\n정책자료\\n\\n\\n국정과제\\n\\n\\n정책추진방향\\n\\n\\n대상자별 정책열기/닫기\\n\\n\\n\\n청년\\n\\n\\n\\n\\n신중년\\n\\n\\n\\n\\n장애인\\n\\n\\n\\n\\n여성\\n\\n\\n\\n\\n외국인\\n\\n\\n\\n\\n\\n분야별 정책열기/닫기\\n\\n\\n\\n취업 및 채용지원\\n\\n\\n\\n\\n사업주지원\\n\\n\\n\\n\\n고용안전망\\n\\n\\n\\n\\n직업능력개발\\n\\n\\n\\n\\n근로조건개선\\n\\n\\n\\n\\n안심일터\\n\\n\\n\\n\\n노사관계\\n\\n\\n\\n\\n\\n업무보고\\n\\n\\n정책자료실\\n\\n\\n노동개혁열기/닫기\\n\\n\\n\\n추진상황\\n\\n\\n\\n\\n보도 및 홍보자료\\n\\n\\n\\n\\n상생임금위원회\\n\\n\\n\\n\\n임금체계 개편\\n\\n\\n\\n\\n미래노동시장연구회\\n\\n\\n\\n\\n\\ne-고용노동지표열기/닫기\\n\\n최신 고용노동 통계\\n고용률/실업률\\n근로감독/신고사건 현황\\n청년고용률 및 사업실적\\n\\n\\n\\n\\n열기/닫기\\n\\n\\n\\n본문\\n\\n\\n\\n\\n\\r\\n            \\t\\t\\t\\t\\t\\r\\n            \\t\\t\\t\\t\\t\\t\\t취업 및 채용지원\\r\\n            \\t\\t\\t\\t\\t\\t\\r\\n            \\t\\t\\t\\t\\n\\r\\n              \\t\\t\\t\\t\\r\\n              \\t\\t\\t\\t\\t\\t고용노동부의 분야별 정책입니다.\\r\\n              \\t\\t\\t\\t\\r\\n              \\t\\t\\t\\n\\n\\n\\n맞춤형 취업 및 채용지원 서비스\\n\\n국민취업지원제도\\n\\n사업목적\\n저소득 구직자 등 취업취약계층에게 통합적인 취업지원서비스를 제공하고 생계를 지원함으로써 이들의 구직활동 및 생활안정 지원\\n지원대상(수급자격 요건)\\n근로능력과 구직의사가 있음에도 불구하고 취업하지 못한 자 중 아래 요건을 충족한 자\\n\\n지원대상을 나타낸 표입니다. 필요요건, 연령, 가구담위 소득, 가구원재산, 취업경험으로 구분되어 있습니다.\\n\\n\\n\\n\\n\\n\\n\\n\\n\\n\\n\\n필요요건\\n연령\\n가구단위 소득\\n가구원 재산\\n취업경험\\n\\n\\n\\n\\nⅠ유형\\n요건심사형\\n15~69세\\n중위소득 60%이하\\n4억원 이하(청년 5억원 이하)\\n최근 2년 이내 100일 또는 800시간 이상\\n\\n\\n선발형\\n비경활\\n15~69세\\n중위소득 60% 이하\\n4억원 이하\\n최근 2년 이내 100일 또는 800시간 미만\\n\\n\\n청년\\n18~34세\\n중위소득 120% 이하\\n5억원 이하\\nX\\n\\n\\nⅡ유형\\n특정계층\\n15~69세\\nX\\nX\\nX\\n\\n\\n청년\\n18~34세\\nX\\n\\n\\n중장년\\n35~69세\\n중위소득 100% 이하\\n\\n\\n\\n지원내용\\n취업지원서비스 및 소득지원을 결합하여 지원\\n\\n지원내용을 나타낸 표입니다. 구분, 취업지원서비스, 생계지원으로 구분되어 있습니다.\\n\\n\\n\\n\\n\\n\\n\\n구분\\n취업지원서비스\\n생계지원\\n\\n\\n\\n\\nI유형\\n\\n\\n상담·진단을 통해 취업역량 파악,  취업지원 경로(IAP) 설정\\n직업훈련·일경험·창업·해외취업 및 복지프로그램(생계, 의료, 금융, 돌봄서비스 등) 등 연계\\n구직활동지원 프로그램 연계 및 집중취업알선 진행 등\\n\\n\\n\\n\\n\\n(구직촉진수당) 월50만원 + 부양가족* 1인당 10만원(월 최대 40만원) 추가지원 × 6개월\\r\\n\\t\\t\\t\\t\\t\\t\\t*부양가족: 18세 이하, 70세 이상, 중증장애인\\n\\n(조기취업성공수당) 취업활동계획 수립 후 3개월 내 취업시 잔여 구직촉진수당의 50% 지급\\n(취업성공수당) 최대 150만원(중위소득 60%이하)\\n\\n\\n\\n\\nII유형\\n\\n\\n\\n(취업활동비용) 최대 195.4만원*\\r\\n\\t\\t\\t\\t\\t\\t\\t* 취업활동계획 수립 참여수당 15~25만원, 직업훈련 참여지원수당(월28.4만원x6개월) 등\\n\\n(조기취업성공수당) 취업활동계획 수립 후 3개월 내 취업시 50만원(생계급여 조건부수급자)\\n(취업성공수당) 최대 150만원(중위소득 60%이하 및 특정계층)\\n\\n\\n\\n\\n\\n사업추진체계\\n\\n\\n지원신청(고용센터 or 온라인)\\n\\n\\n수급자격 조사\\n\\n\\n수급자격 결정∙통지\\n\\n\\n취업활동계획 수립\\n\\n\\n구직활동 이행\\n\\n\\n수당 지급\\n\\n\\n문의처\\n고용노동부 고객상담센터 (TEL. 국번없이 1350)\\n고용복지+센터 홈페이지 (www.workplus.go.kr) \\n국민취업지원제도  홈페이지 (www.kua.go.kr) \\n\\n\\n 목록 \\n\\n\\n\\n\\n\\n\\n\\n\\n\\n\\n\\n\\n\\n\\n\\n\\n소속기관(지청,위원회)\\n\\n\\n서울지방고용노동청\\n서울강남지청\\n서울동부지청\\n서울서부지청\\n서울남부지청\\n서울북부지청\\n서울관악지청\\n중부지방고용노동청\\n인천북부지청\\n부천지청\\n의정부지청\\n고양지청\\n경기지청\\n성남지청\\n안양지청\\n안산지청\\n평택지청\\n강원지청\\n강릉지청\\n원주지청\\n태백지청\\n영월출장소\\n부산지방고용노동청\\n부산동부지청\\n부산북부지청\\n창원지청\\n울산지청\\n양산지청\\n진주지청\\n통영지청\\n대구지방고용노동청\\n대구서부지청\\n포항지청\\n구미지청\\n영주지청\\n안동지청\\n광주지방고용노동청\\n전주지청\\n익산지청\\n군산지청\\n목포지청\\n여수지청\\n대전지방고용노동청\\n청주지청\\n천안지청\\n충주지청\\n보령지청\\n서산출장소\\n중앙노동위원회\\n최저임금위원회\\n산업재해보상보험재심사위원회\\n고용보험심사위원회\\n\\n\\n\\n\\n\\n\\n업무별 누리집\\n\\n\\n고용보험 서비스[EI]\\n고용노동통계\\n고용센터\\n직업훈련포탈[HRD-NET]\\n외국인고용관리시스템[EPS]\\n워크넷[WORKNET]\\n월드잡\\n임금직무정보시스템\\n지역고용정보네트워크\\n커리어넷\\n한국직업방송\\n국민취업지원제도\\n온라인청년센터\\n가사랑\\n\\n\\n\\n\\n\\n\\n산하기관,관련단체\\n\\n\\n근로복지공단\\n노사발전재단\\n건설근로자공제회\\n한국직업능력연구원\\n한국잡월드\\n한국고용노동교육원\\n한국기술교육대학교\\n한국폴리텍대학\\n한국사회적기업진흥원\\n한국고용정보원\\n한국장애인고용공단\\n한국산업안전보건공단\\n한국산업인력공단\\n경제사회노동위원회\\n\\n\\n\\n\\n\\n\\n정부기관\\n\\n\\n대통령실\\n국회\\n대법원\\n감사원\\n국가정보원\\n국가인권위원회\\n방송통신위원회\\n중앙선거관리위원회\\n헌법재판소\\n국무조정실\\n기획재정부\\n과학기술정보통신부\\n교육부\\n외교부\\n통일부\\n법무부\\n국방부\\n행정안전부\\n문화체육관광부\\n농림축산식품부\\n산업통상자원부\\n보건복지부\\n환경부\\n해양수산부\\n여성가족부\\n국토교통부\\n중소벤처기업부\\n국가보훈처\\n법제처\\n식품의약품안전처\\n공정거래위원회\\n금융위원회\\n규제혁신추진단\\n\\n\\n\\n\\n\\n\\n\\n\\n\\n이용안내\\n고용노동행정서비스헌장\\n개인정보처리방침\\n영상정보처리기기 운영ㆍ관리 방침\\n저작권정책\\n\\n\\n유튜브\\n페이스북\\n트위터\\n블로그\\n인스타그램\\n\\n\\n\\n\\n\\n\\n\\n(우)30117 세종특별자치시 한누리대로 422 정부세종청사 11동 고용노동부\\n\\n\\n고객상담센터\\n1350(유료)\\n\\n\\n당직실\\n044-202-7999\\u200b\\u200b (당직근무시간 평일 18시 ~ 익일 09시, 주말ㆍ공휴일 24시)\\n\\n\\n\\n\\n\\n\\n\\n\\nCopyright(c)Ministry of Employment and Labor. All rights reserved.\\n\\n\\n\\n\\n\\n\\n\\n', metadata={'source': 'https://www.moel.go.kr/policy/policyinfo/support/list4.do', 'title': '내일을 위한 고용노동부 - 고용노동부가 밝은 미래를 열어드립니다', 'language': 'ko'})]"
      ]
     },
     "execution_count": 20,
     "metadata": {},
     "output_type": "execute_result"
    }
   ],
   "source": [
    "docs"
   ]
  },
  {
   "cell_type": "markdown",
   "metadata": {},
   "source": [
    "## 임베딩"
   ]
  },
  {
   "cell_type": "code",
   "execution_count": 18,
   "metadata": {},
   "outputs": [],
   "source": [
    "# 전체 내용을 넣지 않고 왜 임베딩 같은 복잡한 기술을 쓸까?\n",
    "# 위에 docs 내용을 넣어줘도 우리가 원하는 답을 구할 수 있다\n",
    "# 비즈니스 적으로 접근하면 하지만 불필요한 내용이 많다! 따라서 랭체인에서 임베딩을 고안한 것아다\n",
    "# 크롤링을 해오면 불필요한 내용이 많다 -> 토큰 증가 -> 비용 시간 증가\n",
    "\n",
    "from langchain_openai import OpenAIEmbeddings\n",
    "embeddings = OpenAIEmbeddings(openai_api_key=openai_api_key)"
   ]
  },
  {
   "cell_type": "code",
   "execution_count": 21,
   "metadata": {},
   "outputs": [],
   "source": [
    "# faiss-cpu?\n",
    "# 벡터간의 유사도... 페이스북에서 만든..\n",
    "# 임베딩?\n",
    "# 임베딩이란 현실세계를 컴퓨터가 이해할 수 있도록 벡터로 표현하는 것\n",
    "\n",
    "from langchain_community.vectorstores import FAISS\n",
    "from langchain_text_splitters import RecursiveCharacterTextSplitter\n",
    "\n",
    "\n",
    "text_splitter = RecursiveCharacterTextSplitter()\n",
    "documents = text_splitter.split_documents(docs)\n",
    "# FAISS 클래스를 사용하여 문서들을 벡터화, documents는 분할된 텍스트, embeddings는 해당 문서들을 임베딩한 결과\n",
    "# 이를 통해 FAISS를 사용하여 문서 간의 유사도를 계산하거나 검색할 수 있다\n",
    "vector = FAISS.from_documents(documents, embeddings)"
   ]
  },
  {
   "cell_type": "code",
   "execution_count": 22,
   "metadata": {},
   "outputs": [
    {
     "data": {
      "text/plain": [
       "<langchain_community.vectorstores.faiss.FAISS at 0x220180fe020>"
      ]
     },
     "execution_count": 22,
     "metadata": {},
     "output_type": "execute_result"
    }
   ],
   "source": [
    "vector"
   ]
  },
  {
   "cell_type": "code",
   "execution_count": 23,
   "metadata": {},
   "outputs": [],
   "source": [
    "#  주어진 문맥과 모델을 바탕으로 문서 체인을 생성 : create_stuff_documents_chain\n",
    "from langchain.chains.combine_documents import create_stuff_documents_chain\n",
    "\n",
    "# 프롬프트의 template 지정\n",
    "prompt = ChatPromptTemplate.from_template(\"\"\"Answer the following question based only on the provided context:\n",
    "\n",
    "<context>\n",
    "{context}\n",
    "</context>\n",
    "\n",
    "Question: {input}\"\"\")\n",
    "\n",
    "document_chain = create_stuff_documents_chain(llm, prompt)"
   ]
  },
  {
   "cell_type": "code",
   "execution_count": 24,
   "metadata": {},
   "outputs": [
    {
     "data": {
      "text/plain": [
       "'국민취업지원제도는 취업을 원하는 사람에게 취업지원서비스를 일괄적으로 제공하고 저소득 구직자에게는 최소한의 소득도 지원하는 한국형 실업부조입니다.'"
      ]
     },
     "execution_count": 24,
     "metadata": {},
     "output_type": "execute_result"
    }
   ],
   "source": [
    "# 바로 Docs 내용을 반영도 가능하다\n",
    "from langchain_core.documents import Document\n",
    "\n",
    "document_chain.invoke({\n",
    "    \"input\": \"국민취업지원제도가 뭐야\",\n",
    "    \"context\": [Document(page_content=\"\"\"국민취업지원제도란?\n",
    "\n",
    "취업을 원하는 사람에게 취업지원서비스를 일괄적으로 제공하고 저소득 구직자에게는 최소한의 소득도 지원하는 한국형 실업부조입니다. 2024년부터 15~69세 저소득층, 청년 등 취업취약계층에게 맞춤형 취업지원서비스와 소득지원을 함께 제공합니다.\n",
    "[출처] 2024년 달라지는 청년 지원 정책을 확인하세요.|작성자 정부24\"\"\")]\n",
    "})"
   ]
  },
  {
   "cell_type": "code",
   "execution_count": 25,
   "metadata": {},
   "outputs": [],
   "source": [
    "# 벡터 검색기와 문서 체인을 결합하여 검색 체인을 생성 : create_retrieval_chain\n",
    "from langchain.chains import create_retrieval_chain\n",
    "\n",
    "# 이전에 생성된 벡터 객체인 vector를 검색기 객체로 변환. 이를 통해 문서 간의 유사도를 계산하고 검색을 수행할 수 있는 기능을 활용할 수 있게 된다\n",
    "retriever = vector.as_retriever()\n",
    "# retriever는 벡터 검색을 수행할 수 있는 객체이며, document_chain은 문서 체인\n",
    "# 검색 체인은 이 두 가지를 결합하여 문서를 검색하고 관련 정보를 추출하는 데 사용\n",
    "retrieval_chain = create_retrieval_chain(retriever, document_chain)"
   ]
  },
  {
   "cell_type": "code",
   "execution_count": 26,
   "metadata": {},
   "outputs": [
    {
     "name": "stdout",
     "output_type": "stream",
     "text": [
      "국민취업지원제도는 저소득 구직자 및 취업 취약계층을 대상으로 통합적인 취업지원 서비스와 생계지원을 제공하는 제도입니다. 이를 통해 구직활동과 생활안정을 지원하고 있습니다.\n"
     ]
    }
   ],
   "source": [
    "# 크롤링한 사이트를 기반으로 응답을 한다\n",
    "response = retrieval_chain.invoke({\"input\": \"국민취업지원제도가 뭐야\"})\n",
    "print(response[\"answer\"])"
   ]
  },
  {
   "cell_type": "code",
   "execution_count": 27,
   "metadata": {},
   "outputs": [
    {
     "name": "stdout",
     "output_type": "stream",
     "text": [
      "취업성공수당은 최대 150만원입니다.\n"
     ]
    }
   ],
   "source": [
    "response = retrieval_chain.invoke({\"input\": \"취업성공수당은 얼마야?\"})\n",
    "print(response[\"answer\"])"
   ]
  },
  {
   "cell_type": "code",
   "execution_count": 28,
   "metadata": {},
   "outputs": [
    {
     "name": "stdout",
     "output_type": "stream",
     "text": [
      "고용노동부 고객상담센터 전화번호는 1350입니다.\n"
     ]
    }
   ],
   "source": [
    "response = retrieval_chain.invoke({\"input\": \"상담센터 전화번호 뭐야\"})\n",
    "print(response[\"answer\"])"
   ]
  }
 ],
 "metadata": {
  "kernelspec": {
   "display_name": "myenv",
   "language": "python",
   "name": "python3"
  },
  "language_info": {
   "codemirror_mode": {
    "name": "ipython",
    "version": 3
   },
   "file_extension": ".py",
   "mimetype": "text/x-python",
   "name": "python",
   "nbconvert_exporter": "python",
   "pygments_lexer": "ipython3",
   "version": "3.10.13"
  }
 },
 "nbformat": 4,
 "nbformat_minor": 2
}
